{
 "cells": [
  {
   "cell_type": "code",
   "execution_count": null,
   "id": "58f1f57c-f9b8-407e-936a-8006ef16cc13",
   "metadata": {},
   "outputs": [],
   "source": [
    "!pip install transformers torch datasets openpyxl"
   ]
  },
  {
   "cell_type": "code",
   "execution_count": null,
   "id": "b84edcb8",
   "metadata": {},
   "outputs": [],
   "source": [
    "import os\n",
    "\n",
    "os.makedirs('eval_results', exist_ok=True)"
   ]
  },
  {
   "cell_type": "markdown",
   "id": "8595736e-3631-41f6-978f-02ccc7b2d420",
   "metadata": {},
   "source": [
    "## Load dataset"
   ]
  },
  {
   "cell_type": "code",
   "execution_count": 2,
   "id": "04f9e747-5d8b-48c5-9c34-80f3fb2d3ab7",
   "metadata": {
    "tags": []
   },
   "outputs": [
    {
     "name": "stderr",
     "output_type": "stream",
     "text": [
      "/opt/conda/lib/python3.11/site-packages/tqdm/auto.py:21: TqdmWarning: IProgress not found. Please update jupyter and ipywidgets. See https://ipywidgets.readthedocs.io/en/stable/user_install.html\n",
      "  from .autonotebook import tqdm as notebook_tqdm\n"
     ]
    }
   ],
   "source": [
    "import datasets\n",
    "dataset_dict = datasets.load_dataset('klaylouis1932/OpenFinData-Intent-Understanding-Intruct')\n",
    "\n",
    "test_dataset = dataset_dict['test'].to_pandas()\n",
    "test_dataset['id'] = test_dataset.index"
   ]
  },
  {
   "cell_type": "markdown",
   "id": "78238881-9df9-49b4-ba79-f641a91ffdf6",
   "metadata": {},
   "source": [
    "## ChatGLM3-6B"
   ]
  },
  {
   "cell_type": "code",
   "execution_count": 3,
   "id": "35f62ff4-858e-43ab-9868-21ef94517277",
   "metadata": {
    "tags": []
   },
   "outputs": [
    {
     "name": "stderr",
     "output_type": "stream",
     "text": [
      "Setting eos_token is not supported, use the default one.\n",
      "Setting pad_token is not supported, use the default one.\n",
      "Setting unk_token is not supported, use the default one.\n",
      "Loading checkpoint shards: 100%|██████████| 7/7 [00:00<00:00,  7.30it/s]\n"
     ]
    }
   ],
   "source": [
    "from transformers import AutoTokenizer, AutoModel\n",
    "base_tokenizer = AutoTokenizer.from_pretrained(\"THUDM/chatglm3-6b\", trust_remote_code=True)\n",
    "base_model = AutoModel.from_pretrained(\"THUDM/chatglm3-6b\", trust_remote_code=True).half().cuda()\n",
    "base_model = base_model.eval()"
   ]
  },
  {
   "cell_type": "code",
   "execution_count": 4,
   "id": "29d7127e-16bc-4639-95ae-458dd1a871fe",
   "metadata": {},
   "outputs": [],
   "source": [
    "question = test_dataset['instruction'].iloc[0]"
   ]
  },
  {
   "cell_type": "code",
   "execution_count": 5,
   "id": "9488a38d-3712-4ab5-a470-f2f68923d1ff",
   "metadata": {
    "tags": []
   },
   "outputs": [
    {
     "name": "stdout",
     "output_type": "stream",
     "text": [
      "B\n",
      "CPU times: user 616 ms, sys: 268 ms, total: 884 ms\n",
      "Wall time: 902 ms\n"
     ]
    }
   ],
   "source": [
    "%%time\n",
    "response, history = base_model.chat(base_tokenizer, question, history=[])\n",
    "print(response)\n"
   ]
  },
  {
   "cell_type": "code",
   "execution_count": 6,
   "id": "d5a030a3-42ef-47a7-84da-a6adcce55a9b",
   "metadata": {
    "tags": []
   },
   "outputs": [
    {
     "name": "stdout",
     "output_type": "stream",
     "text": [
      "Progress(15/75)...\n",
      "Progress(30/75)...\n",
      "Progress(45/75)...\n",
      "Progress(60/75)...\n",
      "Progress(75/75)...\n",
      "CPU times: user 10.6 s, sys: 6.09 ms, total: 10.6 s\n",
      "Wall time: 10.6 s\n"
     ]
    }
   ],
   "source": [
    "%%time\n",
    "from collections import defaultdict\n",
    "import time\n",
    "\n",
    "prediction_results = defaultdict(list)\n",
    "\n",
    "n = 0\n",
    "for i, row in test_dataset.iterrows():\n",
    "    # question = row['question'] # original question\n",
    "    question = row['instruction'] # rewrite question/instruction\n",
    "    answer = row['output']\n",
    "    idx = row['id']\n",
    "    prediction_results['id'].append(idx)\n",
    "    \n",
    "    try:\n",
    "        # prediction = llm_claude35.invoke_model(question)\n",
    "        prediction, _ = base_model.chat(base_tokenizer, question, history=[])\n",
    "    except:\n",
    "        print(f'Error occurred for question: {question}')\n",
    "        prediction = None\n",
    "    \n",
    "    prediction_results['pred_answer'].append(prediction)\n",
    "    # time.sleep(10)\n",
    "    \n",
    "    n += 1\n",
    "    if n%15 == 0:\n",
    "        print(f'Progress({n}/{len(test_dataset)})...')\n",
    "    # if n>=2:\n",
    "    #     break"
   ]
  },
  {
   "cell_type": "code",
   "execution_count": 7,
   "id": "ccb6be7b-e8f4-4395-a506-cb33e058d8f6",
   "metadata": {
    "tags": []
   },
   "outputs": [],
   "source": [
    "import numpy as np\n",
    "import pandas as pd\n",
    "\n",
    "pred = pd.DataFrame(prediction_results)\n",
    "pred_result_df = test_dataset[['id', 'instruction', 'output']].merge(pred, on='id', how='left')\n",
    "\n",
    "pred_result_df['exact_match'] = np.where(pred_result_df['pred_answer']==pred_result_df['output'], 1, 0)\n"
   ]
  },
  {
   "cell_type": "code",
   "execution_count": 8,
   "id": "5f0a0ed1-b602-4de1-9d95-e17d18f78ba8",
   "metadata": {
    "tags": []
   },
   "outputs": [
    {
     "name": "stdout",
     "output_type": "stream",
     "text": [
      "Accuracy with Finetuned ChatGLM3 is : 45.33333333333333%\n"
     ]
    }
   ],
   "source": [
    "accuracy = pred_result_df['exact_match'].sum()/len(pred_result_df)\n",
    "print(f'Accuracy with Finetuned ChatGLM3 is : {accuracy*100}%')"
   ]
  },
  {
   "cell_type": "code",
   "execution_count": 9,
   "id": "e0cfbcfd-6526-47d1-bdeb-7af5f6adc3be",
   "metadata": {
    "tags": []
   },
   "outputs": [
    {
     "data": {
      "text/html": [
       "<div>\n",
       "<style scoped>\n",
       "    .dataframe tbody tr th:only-of-type {\n",
       "        vertical-align: middle;\n",
       "    }\n",
       "\n",
       "    .dataframe tbody tr th {\n",
       "        vertical-align: top;\n",
       "    }\n",
       "\n",
       "    .dataframe thead th {\n",
       "        text-align: right;\n",
       "    }\n",
       "</style>\n",
       "<table border=\"1\" class=\"dataframe\">\n",
       "  <thead>\n",
       "    <tr style=\"text-align: right;\">\n",
       "      <th></th>\n",
       "      <th>id</th>\n",
       "      <th>instruction</th>\n",
       "      <th>output</th>\n",
       "      <th>pred_answer</th>\n",
       "      <th>exact_match</th>\n",
       "    </tr>\n",
       "  </thead>\n",
       "  <tbody>\n",
       "    <tr>\n",
       "      <th>39</th>\n",
       "      <td>39</td>\n",
       "      <td>作为一个意图情绪助手，请分析以下问句的意图类型。\\n\\n问句: REITS基金有哪些\\n\\n...</td>\n",
       "      <td>E</td>\n",
       "      <td>选项E，基金问询。</td>\n",
       "      <td>0</td>\n",
       "    </tr>\n",
       "    <tr>\n",
       "      <th>40</th>\n",
       "      <td>40</td>\n",
       "      <td>作为一个意图情绪助手，请分析以下问句的意图类型。\\n\\n问句: 证券基金还能继续涨吗？\\n\\...</td>\n",
       "      <td>E</td>\n",
       "      <td>C. 大盘问询</td>\n",
       "      <td>0</td>\n",
       "    </tr>\n",
       "    <tr>\n",
       "      <th>44</th>\n",
       "      <td>44</td>\n",
       "      <td>作为一个意图情绪助手，请分析以下问句的意图类型。\\n\\n问句: 可买哪只ETF\\n\\n请从以...</td>\n",
       "      <td>E</td>\n",
       "      <td>选项E，基金问询。</td>\n",
       "      <td>0</td>\n",
       "    </tr>\n",
       "    <tr>\n",
       "      <th>47</th>\n",
       "      <td>47</td>\n",
       "      <td>作为一个意图情绪助手，请分析以下问句的意图类型。\\n\\n问句: 哪些基金适合短线操作？\\n\\...</td>\n",
       "      <td>E</td>\n",
       "      <td>选项E：基金问询</td>\n",
       "      <td>0</td>\n",
       "    </tr>\n",
       "  </tbody>\n",
       "</table>\n",
       "</div>"
      ],
      "text/plain": [
       "    id                                        instruction output pred_answer  \\\n",
       "39  39  作为一个意图情绪助手，请分析以下问句的意图类型。\\n\\n问句: REITS基金有哪些\\n\\n...      E   选项E，基金问询。   \n",
       "40  40  作为一个意图情绪助手，请分析以下问句的意图类型。\\n\\n问句: 证券基金还能继续涨吗？\\n\\...      E     C. 大盘问询   \n",
       "44  44  作为一个意图情绪助手，请分析以下问句的意图类型。\\n\\n问句: 可买哪只ETF\\n\\n请从以...      E   选项E，基金问询。   \n",
       "47  47  作为一个意图情绪助手，请分析以下问句的意图类型。\\n\\n问句: 哪些基金适合短线操作？\\n\\...      E    选项E：基金问询   \n",
       "\n",
       "    exact_match  \n",
       "39            0  \n",
       "40            0  \n",
       "44            0  \n",
       "47            0  "
      ]
     },
     "execution_count": 9,
     "metadata": {},
     "output_type": "execute_result"
    }
   ],
   "source": [
    "pred_result_df[pred_result_df['pred_answer'].str.len()>1]"
   ]
  },
  {
   "cell_type": "code",
   "execution_count": 10,
   "id": "6d83341a-e401-4572-ae16-8f646ad93dd4",
   "metadata": {
    "tags": []
   },
   "outputs": [
    {
     "data": {
      "text/html": [
       "<div>\n",
       "<style scoped>\n",
       "    .dataframe tbody tr th:only-of-type {\n",
       "        vertical-align: middle;\n",
       "    }\n",
       "\n",
       "    .dataframe tbody tr th {\n",
       "        vertical-align: top;\n",
       "    }\n",
       "\n",
       "    .dataframe thead th {\n",
       "        text-align: right;\n",
       "    }\n",
       "</style>\n",
       "<table border=\"1\" class=\"dataframe\">\n",
       "  <thead>\n",
       "    <tr style=\"text-align: right;\">\n",
       "      <th></th>\n",
       "      <th>id</th>\n",
       "      <th>instruction</th>\n",
       "      <th>output</th>\n",
       "      <th>pred_answer</th>\n",
       "      <th>exact_match</th>\n",
       "    </tr>\n",
       "  </thead>\n",
       "  <tbody>\n",
       "    <tr>\n",
       "      <th>0</th>\n",
       "      <td>0</td>\n",
       "      <td>作为一个意图情绪助手，请分析以下问句的意图类型。\\n\\n问句: 商业银行可以吗\\n\\n请从以...</td>\n",
       "      <td>A</td>\n",
       "      <td>A</td>\n",
       "      <td>1</td>\n",
       "    </tr>\n",
       "    <tr>\n",
       "      <th>1</th>\n",
       "      <td>1</td>\n",
       "      <td>作为一个意图情绪助手，请分析以下问句的意图类型。\\n\\n问句: 什么板块可以布局\\n\\n请从...</td>\n",
       "      <td>A</td>\n",
       "      <td>A</td>\n",
       "      <td>1</td>\n",
       "    </tr>\n",
       "    <tr>\n",
       "      <th>2</th>\n",
       "      <td>2</td>\n",
       "      <td>作为一个意图情绪助手，请分析以下问句的意图类型。\\n\\n问句: 看好哪些赛道\\n\\n请从以下...</td>\n",
       "      <td>A</td>\n",
       "      <td>B</td>\n",
       "      <td>0</td>\n",
       "    </tr>\n",
       "    <tr>\n",
       "      <th>3</th>\n",
       "      <td>3</td>\n",
       "      <td>作为一个意图情绪助手，请分析以下问句的意图类型。\\n\\n问句: 基建在近期会创新高吗？\\n\\...</td>\n",
       "      <td>A</td>\n",
       "      <td>A</td>\n",
       "      <td>1</td>\n",
       "    </tr>\n",
       "    <tr>\n",
       "      <th>4</th>\n",
       "      <td>4</td>\n",
       "      <td>作为一个意图情绪助手，请分析以下问句的意图类型。\\n\\n问句: 明年医药板块还能投资吗？\\n...</td>\n",
       "      <td>A</td>\n",
       "      <td>A</td>\n",
       "      <td>1</td>\n",
       "    </tr>\n",
       "    <tr>\n",
       "      <th>...</th>\n",
       "      <td>...</td>\n",
       "      <td>...</td>\n",
       "      <td>...</td>\n",
       "      <td>...</td>\n",
       "      <td>...</td>\n",
       "    </tr>\n",
       "    <tr>\n",
       "      <th>70</th>\n",
       "      <td>70</td>\n",
       "      <td>作为一个意图情绪助手，请分析以下问句的意图类型。\\n\\n问句: 密码锁了多久开\\n\\n请从以...</td>\n",
       "      <td>D</td>\n",
       "      <td>A</td>\n",
       "      <td>0</td>\n",
       "    </tr>\n",
       "    <tr>\n",
       "      <th>71</th>\n",
       "      <td>71</td>\n",
       "      <td>作为一个意图情绪助手，请分析以下问句的意图类型。\\n\\n问句: 新股申购什么时候才能正常申购...</td>\n",
       "      <td>D</td>\n",
       "      <td>A</td>\n",
       "      <td>0</td>\n",
       "    </tr>\n",
       "    <tr>\n",
       "      <th>72</th>\n",
       "      <td>72</td>\n",
       "      <td>作为一个意图情绪助手，请分析以下问句的意图类型。\\n\\n问句: 如何更改风险设定值\\n\\n请...</td>\n",
       "      <td>D</td>\n",
       "      <td>B</td>\n",
       "      <td>0</td>\n",
       "    </tr>\n",
       "    <tr>\n",
       "      <th>73</th>\n",
       "      <td>73</td>\n",
       "      <td>作为一个意图情绪助手，请分析以下问句的意图类型。\\n\\n问句: 客户基本信息在哪里看\\n\\n...</td>\n",
       "      <td>D</td>\n",
       "      <td>A</td>\n",
       "      <td>0</td>\n",
       "    </tr>\n",
       "    <tr>\n",
       "      <th>74</th>\n",
       "      <td>74</td>\n",
       "      <td>作为一个意图情绪助手，请分析以下问句的意图类型。\\n\\n问句: 中证1000指数亏损，还能拿...</td>\n",
       "      <td>C</td>\n",
       "      <td>C</td>\n",
       "      <td>1</td>\n",
       "    </tr>\n",
       "  </tbody>\n",
       "</table>\n",
       "<p>75 rows × 5 columns</p>\n",
       "</div>"
      ],
      "text/plain": [
       "    id                                        instruction output pred_answer  \\\n",
       "0    0  作为一个意图情绪助手，请分析以下问句的意图类型。\\n\\n问句: 商业银行可以吗\\n\\n请从以...      A           A   \n",
       "1    1  作为一个意图情绪助手，请分析以下问句的意图类型。\\n\\n问句: 什么板块可以布局\\n\\n请从...      A           A   \n",
       "2    2  作为一个意图情绪助手，请分析以下问句的意图类型。\\n\\n问句: 看好哪些赛道\\n\\n请从以下...      A           B   \n",
       "3    3  作为一个意图情绪助手，请分析以下问句的意图类型。\\n\\n问句: 基建在近期会创新高吗？\\n\\...      A           A   \n",
       "4    4  作为一个意图情绪助手，请分析以下问句的意图类型。\\n\\n问句: 明年医药板块还能投资吗？\\n...      A           A   \n",
       "..  ..                                                ...    ...         ...   \n",
       "70  70  作为一个意图情绪助手，请分析以下问句的意图类型。\\n\\n问句: 密码锁了多久开\\n\\n请从以...      D           A   \n",
       "71  71  作为一个意图情绪助手，请分析以下问句的意图类型。\\n\\n问句: 新股申购什么时候才能正常申购...      D           A   \n",
       "72  72  作为一个意图情绪助手，请分析以下问句的意图类型。\\n\\n问句: 如何更改风险设定值\\n\\n请...      D           B   \n",
       "73  73  作为一个意图情绪助手，请分析以下问句的意图类型。\\n\\n问句: 客户基本信息在哪里看\\n\\n...      D           A   \n",
       "74  74  作为一个意图情绪助手，请分析以下问句的意图类型。\\n\\n问句: 中证1000指数亏损，还能拿...      C           C   \n",
       "\n",
       "    exact_match  \n",
       "0             1  \n",
       "1             1  \n",
       "2             0  \n",
       "3             1  \n",
       "4             1  \n",
       "..          ...  \n",
       "70            0  \n",
       "71            0  \n",
       "72            0  \n",
       "73            0  \n",
       "74            1  \n",
       "\n",
       "[75 rows x 5 columns]"
      ]
     },
     "execution_count": 10,
     "metadata": {},
     "output_type": "execute_result"
    }
   ],
   "source": [
    "pred_result_df"
   ]
  },
  {
   "cell_type": "code",
   "execution_count": 11,
   "id": "41bbcf1e-0833-4db6-8ca8-3a5c8c50b687",
   "metadata": {
    "tags": []
   },
   "outputs": [],
   "source": [
    "\n",
    "model_name = 'chatglm3_6b'\n",
    "pred_result_df.to_excel(f'eval_results/intent_understanding_{model_name}.xlsx', index=False)"
   ]
  },
  {
   "cell_type": "markdown",
   "id": "6c4f4c1d-dff0-400f-bedb-7ba7c74fb49e",
   "metadata": {},
   "source": [
    "## Finetuned ChatGLM3-6B"
   ]
  },
  {
   "cell_type": "code",
   "execution_count": 24,
   "id": "5604ce4d-3a1d-4cfd-923c-dccac19bb8e5",
   "metadata": {
    "tags": []
   },
   "outputs": [
    {
     "name": "stderr",
     "output_type": "stream",
     "text": [
      "A new version of the following files was downloaded from https://huggingface.co/klaylouis1932/chatglm3-6b-lora-ft-fin:\n",
      "- tokenization_chatglm.py\n",
      ". Make sure to double-check they do not contain any added malicious code. To avoid downloading new versions of the code file, you can pin a revision.\n",
      "Setting eos_token is not supported, use the default one.\n",
      "Setting pad_token is not supported, use the default one.\n",
      "Setting unk_token is not supported, use the default one.\n",
      "A new version of the following files was downloaded from https://huggingface.co/klaylouis1932/chatglm3-6b-lora-ft-fin:\n",
      "- configuration_chatglm.py\n",
      ". Make sure to double-check they do not contain any added malicious code. To avoid downloading new versions of the code file, you can pin a revision.\n",
      "A new version of the following files was downloaded from https://huggingface.co/klaylouis1932/chatglm3-6b-lora-ft-fin:\n",
      "- quantization.py\n",
      ". Make sure to double-check they do not contain any added malicious code. To avoid downloading new versions of the code file, you can pin a revision.\n",
      "A new version of the following files was downloaded from https://huggingface.co/klaylouis1932/chatglm3-6b-lora-ft-fin:\n",
      "- modeling_chatglm.py\n",
      "- quantization.py\n",
      ". Make sure to double-check they do not contain any added malicious code. To avoid downloading new versions of the code file, you can pin a revision.\n",
      "Downloading shards: 100%|██████████| 7/7 [20:06<00:00, 172.31s/it]\n",
      "Loading checkpoint shards: 100%|██████████| 7/7 [00:10<00:00,  1.51s/it]\n"
     ]
    }
   ],
   "source": [
    "from transformers import AutoTokenizer, AutoModel\n",
    "finetuned_tokenizer = AutoTokenizer.from_pretrained(\"klaylouis1932/chatglm3-6b-lora-ft-fin\", trust_remote_code=True)\n",
    "finetuned_model = AutoModel.from_pretrained(\"klaylouis1932/chatglm3-6b-lora-ft-fin\", trust_remote_code=True).half().cuda()\n",
    "finetuned_model = finetuned_model.eval()"
   ]
  },
  {
   "cell_type": "code",
   "execution_count": null,
   "id": "83f19765-81a0-4bad-ae18-f56f3237c986",
   "metadata": {},
   "outputs": [],
   "source": [
    "question = test_dataset['instruction'].iloc[0]"
   ]
  },
  {
   "cell_type": "code",
   "execution_count": 30,
   "id": "a5807526-15f9-451a-8b07-a394dd205728",
   "metadata": {
    "tags": []
   },
   "outputs": [
    {
     "name": "stdout",
     "output_type": "stream",
     "text": [
      "D\n",
      "CPU times: user 135 ms, sys: 0 ns, total: 135 ms\n",
      "Wall time: 132 ms\n"
     ]
    }
   ],
   "source": [
    "%%time\n",
    "response, history = finetuned_model.chat(finetuned_tokenizer, question, history=[])\n",
    "print(response)\n"
   ]
  },
  {
   "cell_type": "code",
   "execution_count": 33,
   "id": "94a7c6a4-8342-4883-9739-cf8b130c1d9a",
   "metadata": {
    "tags": []
   },
   "outputs": [
    {
     "name": "stdout",
     "output_type": "stream",
     "text": [
      "Progress(15/75)...\n",
      "Progress(30/75)...\n",
      "Progress(45/75)...\n",
      "Progress(60/75)...\n",
      "Progress(75/75)...\n",
      "CPU times: user 9.78 s, sys: 0 ns, total: 9.78 s\n",
      "Wall time: 9.77 s\n"
     ]
    }
   ],
   "source": [
    "%%time\n",
    "from collections import defaultdict\n",
    "import time\n",
    "\n",
    "prediction_results = defaultdict(list)\n",
    "\n",
    "n = 0\n",
    "for i, row in test_dataset.iterrows():\n",
    "    # question = row['question'] # original question\n",
    "    question = row['instruction'] # rewrite question/instruction\n",
    "    answer = row['output']\n",
    "    idx = row['id']\n",
    "    prediction_results['id'].append(idx)\n",
    "    \n",
    "    try:\n",
    "        # prediction = llm_claude35.invoke_model(question)\n",
    "        prediction, _ = finetuned_model.chat(finetuned_tokenizer, question, history=[])\n",
    "    except:\n",
    "        print(f'Error occurred for question: {question}')\n",
    "        prediction = None\n",
    "    \n",
    "    prediction_results['pred_answer'].append(prediction)\n",
    "    # time.sleep(10)\n",
    "    \n",
    "    n += 1\n",
    "    if n%15 == 0:\n",
    "        print(f'Progress({n}/{len(test_dataset)})...')\n",
    "    # if n>=2:\n",
    "    #     break"
   ]
  },
  {
   "cell_type": "code",
   "execution_count": 40,
   "id": "2ad009e6-ef7b-4c9f-829b-d40183e04a8f",
   "metadata": {
    "tags": []
   },
   "outputs": [],
   "source": [
    "import numpy as np\n",
    "import pandas as pd\n",
    "\n",
    "pred = pd.DataFrame(prediction_results)\n",
    "pred_result_df = test_dataset[['id', 'instruction', 'output']].merge(pred, on='id', how='left')\n",
    "\n",
    "pred_result_df['exact_match'] = np.where(pred_result_df['pred_answer']==pred_result_df['output'], 1, 0)\n"
   ]
  },
  {
   "cell_type": "code",
   "execution_count": 43,
   "id": "73e391d0-cf35-4ba7-84dc-f88163011957",
   "metadata": {
    "tags": []
   },
   "outputs": [
    {
     "name": "stdout",
     "output_type": "stream",
     "text": [
      "Accuracy with Finetuned ChatGLM3 is : 85.33333333333334%\n"
     ]
    }
   ],
   "source": [
    "accuracy = pred_result_df['exact_match'].sum()/len(pred_result_df)\n",
    "print(f'Accuracy with Finetuned ChatGLM3 is : {accuracy*100}%')"
   ]
  },
  {
   "cell_type": "code",
   "execution_count": 44,
   "id": "c3892bc3-f57b-4726-821e-cae5bcbd3f50",
   "metadata": {
    "tags": []
   },
   "outputs": [
    {
     "data": {
      "text/html": [
       "<div>\n",
       "<style scoped>\n",
       "    .dataframe tbody tr th:only-of-type {\n",
       "        vertical-align: middle;\n",
       "    }\n",
       "\n",
       "    .dataframe tbody tr th {\n",
       "        vertical-align: top;\n",
       "    }\n",
       "\n",
       "    .dataframe thead th {\n",
       "        text-align: right;\n",
       "    }\n",
       "</style>\n",
       "<table border=\"1\" class=\"dataframe\">\n",
       "  <thead>\n",
       "    <tr style=\"text-align: right;\">\n",
       "      <th></th>\n",
       "      <th>id</th>\n",
       "      <th>instruction</th>\n",
       "      <th>output</th>\n",
       "      <th>pred_answer</th>\n",
       "      <th>exact_match</th>\n",
       "    </tr>\n",
       "  </thead>\n",
       "  <tbody>\n",
       "  </tbody>\n",
       "</table>\n",
       "</div>"
      ],
      "text/plain": [
       "Empty DataFrame\n",
       "Columns: [id, instruction, output, pred_answer, exact_match]\n",
       "Index: []"
      ]
     },
     "execution_count": 44,
     "metadata": {},
     "output_type": "execute_result"
    }
   ],
   "source": [
    "pred_result_df[pred_result_df['pred_answer'].str.len()>1]"
   ]
  },
  {
   "cell_type": "code",
   "execution_count": 45,
   "id": "2877f383-e044-442f-b3e5-338777ef4894",
   "metadata": {
    "tags": []
   },
   "outputs": [
    {
     "data": {
      "text/html": [
       "<div>\n",
       "<style scoped>\n",
       "    .dataframe tbody tr th:only-of-type {\n",
       "        vertical-align: middle;\n",
       "    }\n",
       "\n",
       "    .dataframe tbody tr th {\n",
       "        vertical-align: top;\n",
       "    }\n",
       "\n",
       "    .dataframe thead th {\n",
       "        text-align: right;\n",
       "    }\n",
       "</style>\n",
       "<table border=\"1\" class=\"dataframe\">\n",
       "  <thead>\n",
       "    <tr style=\"text-align: right;\">\n",
       "      <th></th>\n",
       "      <th>id</th>\n",
       "      <th>instruction</th>\n",
       "      <th>output</th>\n",
       "      <th>pred_answer</th>\n",
       "      <th>exact_match</th>\n",
       "    </tr>\n",
       "  </thead>\n",
       "  <tbody>\n",
       "    <tr>\n",
       "      <th>0</th>\n",
       "      <td>0</td>\n",
       "      <td>作为一个意图情绪助手，请分析以下问句的意图类型。\\n\\n问句: 商业银行可以吗\\n\\n请从以...</td>\n",
       "      <td>A</td>\n",
       "      <td>D</td>\n",
       "      <td>0</td>\n",
       "    </tr>\n",
       "    <tr>\n",
       "      <th>1</th>\n",
       "      <td>1</td>\n",
       "      <td>作为一个意图情绪助手，请分析以下问句的意图类型。\\n\\n问句: 什么板块可以布局\\n\\n请从...</td>\n",
       "      <td>A</td>\n",
       "      <td>A</td>\n",
       "      <td>1</td>\n",
       "    </tr>\n",
       "    <tr>\n",
       "      <th>2</th>\n",
       "      <td>2</td>\n",
       "      <td>作为一个意图情绪助手，请分析以下问句的意图类型。\\n\\n问句: 看好哪些赛道\\n\\n请从以下...</td>\n",
       "      <td>A</td>\n",
       "      <td>C</td>\n",
       "      <td>0</td>\n",
       "    </tr>\n",
       "    <tr>\n",
       "      <th>3</th>\n",
       "      <td>3</td>\n",
       "      <td>作为一个意图情绪助手，请分析以下问句的意图类型。\\n\\n问句: 基建在近期会创新高吗？\\n\\...</td>\n",
       "      <td>A</td>\n",
       "      <td>C</td>\n",
       "      <td>0</td>\n",
       "    </tr>\n",
       "    <tr>\n",
       "      <th>4</th>\n",
       "      <td>4</td>\n",
       "      <td>作为一个意图情绪助手，请分析以下问句的意图类型。\\n\\n问句: 明年医药板块还能投资吗？\\n...</td>\n",
       "      <td>A</td>\n",
       "      <td>A</td>\n",
       "      <td>1</td>\n",
       "    </tr>\n",
       "    <tr>\n",
       "      <th>...</th>\n",
       "      <td>...</td>\n",
       "      <td>...</td>\n",
       "      <td>...</td>\n",
       "      <td>...</td>\n",
       "      <td>...</td>\n",
       "    </tr>\n",
       "    <tr>\n",
       "      <th>70</th>\n",
       "      <td>70</td>\n",
       "      <td>作为一个意图情绪助手，请分析以下问句的意图类型。\\n\\n问句: 密码锁了多久开\\n\\n请从以...</td>\n",
       "      <td>D</td>\n",
       "      <td>D</td>\n",
       "      <td>1</td>\n",
       "    </tr>\n",
       "    <tr>\n",
       "      <th>71</th>\n",
       "      <td>71</td>\n",
       "      <td>作为一个意图情绪助手，请分析以下问句的意图类型。\\n\\n问句: 新股申购什么时候才能正常申购...</td>\n",
       "      <td>D</td>\n",
       "      <td>D</td>\n",
       "      <td>1</td>\n",
       "    </tr>\n",
       "    <tr>\n",
       "      <th>72</th>\n",
       "      <td>72</td>\n",
       "      <td>作为一个意图情绪助手，请分析以下问句的意图类型。\\n\\n问句: 如何更改风险设定值\\n\\n请...</td>\n",
       "      <td>D</td>\n",
       "      <td>D</td>\n",
       "      <td>1</td>\n",
       "    </tr>\n",
       "    <tr>\n",
       "      <th>73</th>\n",
       "      <td>73</td>\n",
       "      <td>作为一个意图情绪助手，请分析以下问句的意图类型。\\n\\n问句: 客户基本信息在哪里看\\n\\n...</td>\n",
       "      <td>D</td>\n",
       "      <td>D</td>\n",
       "      <td>1</td>\n",
       "    </tr>\n",
       "    <tr>\n",
       "      <th>74</th>\n",
       "      <td>74</td>\n",
       "      <td>作为一个意图情绪助手，请分析以下问句的意图类型。\\n\\n问句: 中证1000指数亏损，还能拿...</td>\n",
       "      <td>C</td>\n",
       "      <td>C</td>\n",
       "      <td>1</td>\n",
       "    </tr>\n",
       "  </tbody>\n",
       "</table>\n",
       "<p>75 rows × 5 columns</p>\n",
       "</div>"
      ],
      "text/plain": [
       "    id                                        instruction output pred_answer  \\\n",
       "0    0  作为一个意图情绪助手，请分析以下问句的意图类型。\\n\\n问句: 商业银行可以吗\\n\\n请从以...      A           D   \n",
       "1    1  作为一个意图情绪助手，请分析以下问句的意图类型。\\n\\n问句: 什么板块可以布局\\n\\n请从...      A           A   \n",
       "2    2  作为一个意图情绪助手，请分析以下问句的意图类型。\\n\\n问句: 看好哪些赛道\\n\\n请从以下...      A           C   \n",
       "3    3  作为一个意图情绪助手，请分析以下问句的意图类型。\\n\\n问句: 基建在近期会创新高吗？\\n\\...      A           C   \n",
       "4    4  作为一个意图情绪助手，请分析以下问句的意图类型。\\n\\n问句: 明年医药板块还能投资吗？\\n...      A           A   \n",
       "..  ..                                                ...    ...         ...   \n",
       "70  70  作为一个意图情绪助手，请分析以下问句的意图类型。\\n\\n问句: 密码锁了多久开\\n\\n请从以...      D           D   \n",
       "71  71  作为一个意图情绪助手，请分析以下问句的意图类型。\\n\\n问句: 新股申购什么时候才能正常申购...      D           D   \n",
       "72  72  作为一个意图情绪助手，请分析以下问句的意图类型。\\n\\n问句: 如何更改风险设定值\\n\\n请...      D           D   \n",
       "73  73  作为一个意图情绪助手，请分析以下问句的意图类型。\\n\\n问句: 客户基本信息在哪里看\\n\\n...      D           D   \n",
       "74  74  作为一个意图情绪助手，请分析以下问句的意图类型。\\n\\n问句: 中证1000指数亏损，还能拿...      C           C   \n",
       "\n",
       "    exact_match  \n",
       "0             0  \n",
       "1             1  \n",
       "2             0  \n",
       "3             0  \n",
       "4             1  \n",
       "..          ...  \n",
       "70            1  \n",
       "71            1  \n",
       "72            1  \n",
       "73            1  \n",
       "74            1  \n",
       "\n",
       "[75 rows x 5 columns]"
      ]
     },
     "execution_count": 45,
     "metadata": {},
     "output_type": "execute_result"
    }
   ],
   "source": [
    "pred_result_df"
   ]
  },
  {
   "cell_type": "code",
   "execution_count": 51,
   "id": "5aaa2749-526b-4378-a041-e0109332efc0",
   "metadata": {
    "tags": []
   },
   "outputs": [],
   "source": [
    "\n",
    "model_name = 'chatglm3_6b_finetuned'\n",
    "pred_result_df.to_excel(f'eval_results/intent_understanding_{model_name}.xlsx', index=False)"
   ]
  },
  {
   "cell_type": "code",
   "execution_count": null,
   "id": "0b3be29c-02f8-47dc-b878-01bc99f2010c",
   "metadata": {},
   "outputs": [],
   "source": []
  }
 ],
 "metadata": {
  "availableInstances": [
   {
    "_defaultOrder": 0,
    "_isFastLaunch": true,
    "category": "General purpose",
    "gpuNum": 0,
    "hideHardwareSpecs": false,
    "memoryGiB": 4,
    "name": "ml.t3.medium",
    "vcpuNum": 2
   },
   {
    "_defaultOrder": 1,
    "_isFastLaunch": false,
    "category": "General purpose",
    "gpuNum": 0,
    "hideHardwareSpecs": false,
    "memoryGiB": 8,
    "name": "ml.t3.large",
    "vcpuNum": 2
   },
   {
    "_defaultOrder": 2,
    "_isFastLaunch": false,
    "category": "General purpose",
    "gpuNum": 0,
    "hideHardwareSpecs": false,
    "memoryGiB": 16,
    "name": "ml.t3.xlarge",
    "vcpuNum": 4
   },
   {
    "_defaultOrder": 3,
    "_isFastLaunch": false,
    "category": "General purpose",
    "gpuNum": 0,
    "hideHardwareSpecs": false,
    "memoryGiB": 32,
    "name": "ml.t3.2xlarge",
    "vcpuNum": 8
   },
   {
    "_defaultOrder": 4,
    "_isFastLaunch": true,
    "category": "General purpose",
    "gpuNum": 0,
    "hideHardwareSpecs": false,
    "memoryGiB": 8,
    "name": "ml.m5.large",
    "vcpuNum": 2
   },
   {
    "_defaultOrder": 5,
    "_isFastLaunch": false,
    "category": "General purpose",
    "gpuNum": 0,
    "hideHardwareSpecs": false,
    "memoryGiB": 16,
    "name": "ml.m5.xlarge",
    "vcpuNum": 4
   },
   {
    "_defaultOrder": 6,
    "_isFastLaunch": false,
    "category": "General purpose",
    "gpuNum": 0,
    "hideHardwareSpecs": false,
    "memoryGiB": 32,
    "name": "ml.m5.2xlarge",
    "vcpuNum": 8
   },
   {
    "_defaultOrder": 7,
    "_isFastLaunch": false,
    "category": "General purpose",
    "gpuNum": 0,
    "hideHardwareSpecs": false,
    "memoryGiB": 64,
    "name": "ml.m5.4xlarge",
    "vcpuNum": 16
   },
   {
    "_defaultOrder": 8,
    "_isFastLaunch": false,
    "category": "General purpose",
    "gpuNum": 0,
    "hideHardwareSpecs": false,
    "memoryGiB": 128,
    "name": "ml.m5.8xlarge",
    "vcpuNum": 32
   },
   {
    "_defaultOrder": 9,
    "_isFastLaunch": false,
    "category": "General purpose",
    "gpuNum": 0,
    "hideHardwareSpecs": false,
    "memoryGiB": 192,
    "name": "ml.m5.12xlarge",
    "vcpuNum": 48
   },
   {
    "_defaultOrder": 10,
    "_isFastLaunch": false,
    "category": "General purpose",
    "gpuNum": 0,
    "hideHardwareSpecs": false,
    "memoryGiB": 256,
    "name": "ml.m5.16xlarge",
    "vcpuNum": 64
   },
   {
    "_defaultOrder": 11,
    "_isFastLaunch": false,
    "category": "General purpose",
    "gpuNum": 0,
    "hideHardwareSpecs": false,
    "memoryGiB": 384,
    "name": "ml.m5.24xlarge",
    "vcpuNum": 96
   },
   {
    "_defaultOrder": 12,
    "_isFastLaunch": false,
    "category": "General purpose",
    "gpuNum": 0,
    "hideHardwareSpecs": false,
    "memoryGiB": 8,
    "name": "ml.m5d.large",
    "vcpuNum": 2
   },
   {
    "_defaultOrder": 13,
    "_isFastLaunch": false,
    "category": "General purpose",
    "gpuNum": 0,
    "hideHardwareSpecs": false,
    "memoryGiB": 16,
    "name": "ml.m5d.xlarge",
    "vcpuNum": 4
   },
   {
    "_defaultOrder": 14,
    "_isFastLaunch": false,
    "category": "General purpose",
    "gpuNum": 0,
    "hideHardwareSpecs": false,
    "memoryGiB": 32,
    "name": "ml.m5d.2xlarge",
    "vcpuNum": 8
   },
   {
    "_defaultOrder": 15,
    "_isFastLaunch": false,
    "category": "General purpose",
    "gpuNum": 0,
    "hideHardwareSpecs": false,
    "memoryGiB": 64,
    "name": "ml.m5d.4xlarge",
    "vcpuNum": 16
   },
   {
    "_defaultOrder": 16,
    "_isFastLaunch": false,
    "category": "General purpose",
    "gpuNum": 0,
    "hideHardwareSpecs": false,
    "memoryGiB": 128,
    "name": "ml.m5d.8xlarge",
    "vcpuNum": 32
   },
   {
    "_defaultOrder": 17,
    "_isFastLaunch": false,
    "category": "General purpose",
    "gpuNum": 0,
    "hideHardwareSpecs": false,
    "memoryGiB": 192,
    "name": "ml.m5d.12xlarge",
    "vcpuNum": 48
   },
   {
    "_defaultOrder": 18,
    "_isFastLaunch": false,
    "category": "General purpose",
    "gpuNum": 0,
    "hideHardwareSpecs": false,
    "memoryGiB": 256,
    "name": "ml.m5d.16xlarge",
    "vcpuNum": 64
   },
   {
    "_defaultOrder": 19,
    "_isFastLaunch": false,
    "category": "General purpose",
    "gpuNum": 0,
    "hideHardwareSpecs": false,
    "memoryGiB": 384,
    "name": "ml.m5d.24xlarge",
    "vcpuNum": 96
   },
   {
    "_defaultOrder": 20,
    "_isFastLaunch": false,
    "category": "General purpose",
    "gpuNum": 0,
    "hideHardwareSpecs": true,
    "memoryGiB": 0,
    "name": "ml.geospatial.interactive",
    "supportedImageNames": [
     "sagemaker-geospatial-v1-0"
    ],
    "vcpuNum": 0
   },
   {
    "_defaultOrder": 21,
    "_isFastLaunch": true,
    "category": "Compute optimized",
    "gpuNum": 0,
    "hideHardwareSpecs": false,
    "memoryGiB": 4,
    "name": "ml.c5.large",
    "vcpuNum": 2
   },
   {
    "_defaultOrder": 22,
    "_isFastLaunch": false,
    "category": "Compute optimized",
    "gpuNum": 0,
    "hideHardwareSpecs": false,
    "memoryGiB": 8,
    "name": "ml.c5.xlarge",
    "vcpuNum": 4
   },
   {
    "_defaultOrder": 23,
    "_isFastLaunch": false,
    "category": "Compute optimized",
    "gpuNum": 0,
    "hideHardwareSpecs": false,
    "memoryGiB": 16,
    "name": "ml.c5.2xlarge",
    "vcpuNum": 8
   },
   {
    "_defaultOrder": 24,
    "_isFastLaunch": false,
    "category": "Compute optimized",
    "gpuNum": 0,
    "hideHardwareSpecs": false,
    "memoryGiB": 32,
    "name": "ml.c5.4xlarge",
    "vcpuNum": 16
   },
   {
    "_defaultOrder": 25,
    "_isFastLaunch": false,
    "category": "Compute optimized",
    "gpuNum": 0,
    "hideHardwareSpecs": false,
    "memoryGiB": 72,
    "name": "ml.c5.9xlarge",
    "vcpuNum": 36
   },
   {
    "_defaultOrder": 26,
    "_isFastLaunch": false,
    "category": "Compute optimized",
    "gpuNum": 0,
    "hideHardwareSpecs": false,
    "memoryGiB": 96,
    "name": "ml.c5.12xlarge",
    "vcpuNum": 48
   },
   {
    "_defaultOrder": 27,
    "_isFastLaunch": false,
    "category": "Compute optimized",
    "gpuNum": 0,
    "hideHardwareSpecs": false,
    "memoryGiB": 144,
    "name": "ml.c5.18xlarge",
    "vcpuNum": 72
   },
   {
    "_defaultOrder": 28,
    "_isFastLaunch": false,
    "category": "Compute optimized",
    "gpuNum": 0,
    "hideHardwareSpecs": false,
    "memoryGiB": 192,
    "name": "ml.c5.24xlarge",
    "vcpuNum": 96
   },
   {
    "_defaultOrder": 29,
    "_isFastLaunch": true,
    "category": "Accelerated computing",
    "gpuNum": 1,
    "hideHardwareSpecs": false,
    "memoryGiB": 16,
    "name": "ml.g4dn.xlarge",
    "vcpuNum": 4
   },
   {
    "_defaultOrder": 30,
    "_isFastLaunch": false,
    "category": "Accelerated computing",
    "gpuNum": 1,
    "hideHardwareSpecs": false,
    "memoryGiB": 32,
    "name": "ml.g4dn.2xlarge",
    "vcpuNum": 8
   },
   {
    "_defaultOrder": 31,
    "_isFastLaunch": false,
    "category": "Accelerated computing",
    "gpuNum": 1,
    "hideHardwareSpecs": false,
    "memoryGiB": 64,
    "name": "ml.g4dn.4xlarge",
    "vcpuNum": 16
   },
   {
    "_defaultOrder": 32,
    "_isFastLaunch": false,
    "category": "Accelerated computing",
    "gpuNum": 1,
    "hideHardwareSpecs": false,
    "memoryGiB": 128,
    "name": "ml.g4dn.8xlarge",
    "vcpuNum": 32
   },
   {
    "_defaultOrder": 33,
    "_isFastLaunch": false,
    "category": "Accelerated computing",
    "gpuNum": 4,
    "hideHardwareSpecs": false,
    "memoryGiB": 192,
    "name": "ml.g4dn.12xlarge",
    "vcpuNum": 48
   },
   {
    "_defaultOrder": 34,
    "_isFastLaunch": false,
    "category": "Accelerated computing",
    "gpuNum": 1,
    "hideHardwareSpecs": false,
    "memoryGiB": 256,
    "name": "ml.g4dn.16xlarge",
    "vcpuNum": 64
   },
   {
    "_defaultOrder": 35,
    "_isFastLaunch": false,
    "category": "Accelerated computing",
    "gpuNum": 1,
    "hideHardwareSpecs": false,
    "memoryGiB": 61,
    "name": "ml.p3.2xlarge",
    "vcpuNum": 8
   },
   {
    "_defaultOrder": 36,
    "_isFastLaunch": false,
    "category": "Accelerated computing",
    "gpuNum": 4,
    "hideHardwareSpecs": false,
    "memoryGiB": 244,
    "name": "ml.p3.8xlarge",
    "vcpuNum": 32
   },
   {
    "_defaultOrder": 37,
    "_isFastLaunch": false,
    "category": "Accelerated computing",
    "gpuNum": 8,
    "hideHardwareSpecs": false,
    "memoryGiB": 488,
    "name": "ml.p3.16xlarge",
    "vcpuNum": 64
   },
   {
    "_defaultOrder": 38,
    "_isFastLaunch": false,
    "category": "Accelerated computing",
    "gpuNum": 8,
    "hideHardwareSpecs": false,
    "memoryGiB": 768,
    "name": "ml.p3dn.24xlarge",
    "vcpuNum": 96
   },
   {
    "_defaultOrder": 39,
    "_isFastLaunch": false,
    "category": "Memory Optimized",
    "gpuNum": 0,
    "hideHardwareSpecs": false,
    "memoryGiB": 16,
    "name": "ml.r5.large",
    "vcpuNum": 2
   },
   {
    "_defaultOrder": 40,
    "_isFastLaunch": false,
    "category": "Memory Optimized",
    "gpuNum": 0,
    "hideHardwareSpecs": false,
    "memoryGiB": 32,
    "name": "ml.r5.xlarge",
    "vcpuNum": 4
   },
   {
    "_defaultOrder": 41,
    "_isFastLaunch": false,
    "category": "Memory Optimized",
    "gpuNum": 0,
    "hideHardwareSpecs": false,
    "memoryGiB": 64,
    "name": "ml.r5.2xlarge",
    "vcpuNum": 8
   },
   {
    "_defaultOrder": 42,
    "_isFastLaunch": false,
    "category": "Memory Optimized",
    "gpuNum": 0,
    "hideHardwareSpecs": false,
    "memoryGiB": 128,
    "name": "ml.r5.4xlarge",
    "vcpuNum": 16
   },
   {
    "_defaultOrder": 43,
    "_isFastLaunch": false,
    "category": "Memory Optimized",
    "gpuNum": 0,
    "hideHardwareSpecs": false,
    "memoryGiB": 256,
    "name": "ml.r5.8xlarge",
    "vcpuNum": 32
   },
   {
    "_defaultOrder": 44,
    "_isFastLaunch": false,
    "category": "Memory Optimized",
    "gpuNum": 0,
    "hideHardwareSpecs": false,
    "memoryGiB": 384,
    "name": "ml.r5.12xlarge",
    "vcpuNum": 48
   },
   {
    "_defaultOrder": 45,
    "_isFastLaunch": false,
    "category": "Memory Optimized",
    "gpuNum": 0,
    "hideHardwareSpecs": false,
    "memoryGiB": 512,
    "name": "ml.r5.16xlarge",
    "vcpuNum": 64
   },
   {
    "_defaultOrder": 46,
    "_isFastLaunch": false,
    "category": "Memory Optimized",
    "gpuNum": 0,
    "hideHardwareSpecs": false,
    "memoryGiB": 768,
    "name": "ml.r5.24xlarge",
    "vcpuNum": 96
   },
   {
    "_defaultOrder": 47,
    "_isFastLaunch": false,
    "category": "Accelerated computing",
    "gpuNum": 1,
    "hideHardwareSpecs": false,
    "memoryGiB": 16,
    "name": "ml.g5.xlarge",
    "vcpuNum": 4
   },
   {
    "_defaultOrder": 48,
    "_isFastLaunch": false,
    "category": "Accelerated computing",
    "gpuNum": 1,
    "hideHardwareSpecs": false,
    "memoryGiB": 32,
    "name": "ml.g5.2xlarge",
    "vcpuNum": 8
   },
   {
    "_defaultOrder": 49,
    "_isFastLaunch": false,
    "category": "Accelerated computing",
    "gpuNum": 1,
    "hideHardwareSpecs": false,
    "memoryGiB": 64,
    "name": "ml.g5.4xlarge",
    "vcpuNum": 16
   },
   {
    "_defaultOrder": 50,
    "_isFastLaunch": false,
    "category": "Accelerated computing",
    "gpuNum": 1,
    "hideHardwareSpecs": false,
    "memoryGiB": 128,
    "name": "ml.g5.8xlarge",
    "vcpuNum": 32
   },
   {
    "_defaultOrder": 51,
    "_isFastLaunch": false,
    "category": "Accelerated computing",
    "gpuNum": 1,
    "hideHardwareSpecs": false,
    "memoryGiB": 256,
    "name": "ml.g5.16xlarge",
    "vcpuNum": 64
   },
   {
    "_defaultOrder": 52,
    "_isFastLaunch": false,
    "category": "Accelerated computing",
    "gpuNum": 4,
    "hideHardwareSpecs": false,
    "memoryGiB": 192,
    "name": "ml.g5.12xlarge",
    "vcpuNum": 48
   },
   {
    "_defaultOrder": 53,
    "_isFastLaunch": false,
    "category": "Accelerated computing",
    "gpuNum": 4,
    "hideHardwareSpecs": false,
    "memoryGiB": 384,
    "name": "ml.g5.24xlarge",
    "vcpuNum": 96
   },
   {
    "_defaultOrder": 54,
    "_isFastLaunch": false,
    "category": "Accelerated computing",
    "gpuNum": 8,
    "hideHardwareSpecs": false,
    "memoryGiB": 768,
    "name": "ml.g5.48xlarge",
    "vcpuNum": 192
   },
   {
    "_defaultOrder": 55,
    "_isFastLaunch": false,
    "category": "Accelerated computing",
    "gpuNum": 8,
    "hideHardwareSpecs": false,
    "memoryGiB": 1152,
    "name": "ml.p4d.24xlarge",
    "vcpuNum": 96
   },
   {
    "_defaultOrder": 56,
    "_isFastLaunch": false,
    "category": "Accelerated computing",
    "gpuNum": 8,
    "hideHardwareSpecs": false,
    "memoryGiB": 1152,
    "name": "ml.p4de.24xlarge",
    "vcpuNum": 96
   },
   {
    "_defaultOrder": 57,
    "_isFastLaunch": false,
    "category": "Accelerated computing",
    "gpuNum": 0,
    "hideHardwareSpecs": false,
    "memoryGiB": 32,
    "name": "ml.trn1.2xlarge",
    "vcpuNum": 8
   },
   {
    "_defaultOrder": 58,
    "_isFastLaunch": false,
    "category": "Accelerated computing",
    "gpuNum": 0,
    "hideHardwareSpecs": false,
    "memoryGiB": 512,
    "name": "ml.trn1.32xlarge",
    "vcpuNum": 128
   },
   {
    "_defaultOrder": 59,
    "_isFastLaunch": false,
    "category": "Accelerated computing",
    "gpuNum": 0,
    "hideHardwareSpecs": false,
    "memoryGiB": 512,
    "name": "ml.trn1n.32xlarge",
    "vcpuNum": 128
   }
  ],
  "kernelspec": {
   "display_name": "Python 3 (PyTorch 2.4.0 Python 3.11 GPU Optimized)",
   "language": "python",
   "name": "python3__SAGEMAKER_INTERNAL__arn:aws:sagemaker:us-east-1:081325390199:image/pytorch-2.4.0-gpu-py311"
  },
  "language_info": {
   "codemirror_mode": {
    "name": "ipython",
    "version": 3
   },
   "file_extension": ".py",
   "mimetype": "text/x-python",
   "name": "python",
   "nbconvert_exporter": "python",
   "pygments_lexer": "ipython3",
   "version": "3.11.9"
  }
 },
 "nbformat": 4,
 "nbformat_minor": 5
}
